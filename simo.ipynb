{
 "cells": [
  {
   "cell_type": "markdown",
   "metadata": {},
   "source": [
    "# SIMO"
   ]
  },
  {
   "cell_type": "code",
   "execution_count": 2,
   "metadata": {},
   "outputs": [],
   "source": [
    "import numpy as np"
   ]
  },
  {
   "cell_type": "code",
   "execution_count": 3,
   "metadata": {},
   "outputs": [
    {
     "name": "stdout",
     "output_type": "stream",
     "text": [
      "(4, 1)\n"
     ]
    }
   ],
   "source": [
    "# Create channel.\n",
    "# Assume flat fading channel so channel is single tap amplitude and phase shift.\n",
    "h = np.random.random((4, 1)) + 1j*np.random.random((4, 1))\n",
    "print(h.shape)"
   ]
  },
  {
   "cell_type": "code",
   "execution_count": 4,
   "metadata": {},
   "outputs": [
    {
     "name": "stdout",
     "output_type": "stream",
     "text": [
      "(0.7071067811865476+0.7071067811865476j)\n"
     ]
    }
   ],
   "source": [
    "# Create input.\n",
    "x = np.array(np.sqrt(2)/2*(1 + 1j), dtype=complex)\n",
    "print(x)"
   ]
  },
  {
   "cell_type": "code",
   "execution_count": 5,
   "metadata": {},
   "outputs": [
    {
     "name": "stdout",
     "output_type": "stream",
     "text": [
      "(4, 1)\n"
     ]
    }
   ],
   "source": [
    "# Pass input throught channel.\n",
    "y = np.dot(x, h)\n",
    "print(y.shape)"
   ]
  },
  {
   "cell_type": "code",
   "execution_count": 6,
   "metadata": {},
   "outputs": [
    {
     "name": "stdout",
     "output_type": "stream",
     "text": [
      "[[0.70710678+0.70710678j]]\n"
     ]
    }
   ],
   "source": [
    "# Maximal ration combining (MRC)\n",
    "x_hat = (np.conj(h.T) @ y)/np.linalg.norm(h)**2\n",
    "print(x_hat)"
   ]
  },
  {
   "cell_type": "markdown",
   "metadata": {},
   "source": [
    "Let's simulate a SIMO BPSK system in Rayleigh fading channel."
   ]
  },
  {
   "cell_type": "code",
   "execution_count": 22,
   "metadata": {},
   "outputs": [
    {
     "name": "stdout",
     "output_type": "stream",
     "text": [
      "[1.         1.25892541 1.58489319 1.99526231 2.51188643 3.16227766\n",
      " 3.98107171 5.01187234 6.30957344 7.94328235]\n"
     ]
    }
   ],
   "source": [
    "Nrx = 4\n",
    "Nsig = 1024\n",
    "EbNo = np.arange(10)\n",
    "EbNo_lin = 10**(EbNo/10)\n",
    "print(EbNo_lin)\n",
    "Nblock = 64"
   ]
  },
  {
   "cell_type": "code",
   "execution_count": 21,
   "metadata": {},
   "outputs": [
    {
     "name": "stdout",
     "output_type": "stream",
     "text": [
      "0.9998626708984375\n",
      "0.7070582263500077\n",
      "nerrs =  0\n",
      "0.6301663075496265\n",
      "nerrs =  1\n",
      "0.561636312783883\n",
      "nerrs =  0\n",
      "0.5005588906586136\n",
      "nerrs =  0\n",
      "0.4461235808906763\n",
      "nerrs =  0\n",
      "0.3976080599924011\n",
      "nerrs =  0\n",
      "0.3543685564777661\n",
      "nerrs =  0\n",
      "0.3158313084059102\n",
      "nerrs =  0\n",
      "0.28148494990877576\n",
      "nerrs =  0\n",
      "0.2508737256767268\n",
      "nerrs =  0\n"
     ]
    }
   ],
   "source": [
    "x = 2*np.random.randint(0, 2, (1, Nsig)) - 1\n",
    "print(np.var(x))\n",
    "\n",
    "y_mrc = np.zeros(Nsig, dtype=complex)\n",
    "for e in EbNo_lin:\n",
    "    sig = np.sqrt(np.var(x)/e/2.0)\n",
    "    print(sig)\n",
    "\n",
    "    n = sig*(np.random.normal(size=(Nrx, Nsig)) + 1j*np.random.normal(size=(Nrx, Nsig)))\n",
    "    h = np.random.random((Nrx, Nsig)) + 1j*np.random.random((Nrx, Nsig))\n",
    "    y = x * h + n \n",
    "\n",
    "    for n in range(Nsig):\n",
    "        y_mrc[n] = np.conj(h[:, n].T) @ y[:, n] / np.linalg.norm(h[:, n]**2)\n",
    "        \n",
    "    x_hat = np.where(y_mrc >= 0, 1, -1)\n",
    "    nerrs = np.sum(np.where(x_hat != x, 1, 0))\n",
    "    print('nerrs = ', nerrs)"
   ]
  },
  {
   "cell_type": "code",
   "execution_count": null,
   "metadata": {},
   "outputs": [],
   "source": []
  }
 ],
 "metadata": {
  "kernelspec": {
   "display_name": "Python 3",
   "language": "python",
   "name": "python3"
  },
  "language_info": {
   "codemirror_mode": {
    "name": "ipython",
    "version": 3
   },
   "file_extension": ".py",
   "mimetype": "text/x-python",
   "name": "python",
   "nbconvert_exporter": "python",
   "pygments_lexer": "ipython3",
   "version": "3.8.3"
  }
 },
 "nbformat": 4,
 "nbformat_minor": 4
}
