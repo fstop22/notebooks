{
 "cells": [
  {
   "cell_type": "markdown",
   "metadata": {},
   "source": [
    "# Useful Relationships\n",
    "\n",
    "* $R_b$ is bit rate $[bits/sec]$\n",
    "* $R_s$ is symbols rate $[symbols/sec]$\n",
    "* $E_b$ is energy per bit $[J/bit]$\n",
    "* $N_0$ is noise power density $[W/Hz]$\n",
    "* $E_s$ is energy per symbol $[J/symbol]$\n",
    "* $k$ is number of symbols per bit $(k \\leq 1) [sym/bit]$\n",
    "* $m$ is number of bits per symbol $(m \\geq 1) [bit/sym]$\n",
    "* $C$ is carrier power $[W]$\n",
    "* $N$ is noise power $[W]$\n",
    "* $B$ is bandwidth $[Hz]$\n",
    "\n",
    "\n",
    "\\begin{equation*}\n",
    "E_b = k E_s \\qquad \\Bigl[\\frac{J}{bit}\\Bigr] = \\Bigl[\\frac{sym}{bit}\\Bigr]\\Bigl[\\frac{J}{sym}\\Bigr]\n",
    "\\end{equation*}\n",
    "\n",
    "\\begin{equation*}\n",
    "E_s = E_b/k = E_b m \\qquad \\Bigl[\\frac{J}{sym}\\Bigr] = \\Bigl[\\frac{J}{bit}\\Bigr]\\Bigl[\\frac{bit}{sym}\\Bigr]\n",
    "\\end{equation*}\n",
    "\n",
    "\\begin{equation*}\n",
    "\\frac{C}{N}=\\frac{E_b}{N_0}\\frac{R_b}{B} = k\\frac{E_s}{N_0}\\frac{R_b}{B} = \\frac{E_s}{N_0}\\frac{R_s}{B} \\qquad\n",
    "\\Bigl[\\frac{W}{W}\\Bigr] = \\Bigl[\\frac{J/bit}{W/Hz}\\Bigr]\\Bigl[\\frac{bit/sec}{Hz}\\Bigr] =\n",
    "\\Bigl[\\frac{sym}{bit}\\Bigr]\\Bigl[\\frac{J/sym}{W/Hz}\\Bigr]\\Bigl[\\frac{bit/sec}{Hz}\\Bigr]=\n",
    "\\Bigl[\\frac{J/sym}{W/Hz}\\Bigr]\\Bigl[\\frac{sym/sec}{Hz}\\Bigr]\n",
    "\\end{equation*}\n",
    "\n",
    "* In dB,\n",
    "\n",
    "\\begin{equation*}\n",
    "CNR = E_bN_0 + 10\\log_{10}\\Bigl({\\frac{R_b}{B}}\\Bigr) = E_bN_0 + 10\\log_{10}(m)\n",
    "\\end{equation*}\n",
    "\n",
    "\\begin{equation*}\n",
    "E_sN_0 = E_bN_0 + 10\\log_{10}(m)\n",
    "\\end{equation*}\n",
    "\n",
    "\\begin{equation*}\n",
    "CNR = E_sN_0\n",
    "E_sN_0 = E_bN_0 + 10\\log_{10}(m)\n",
    "\\end{equation*}\n",
    "\n",
    "| Modulation | Bits/Sym | $E_bN_0$ |\n",
    "| ---------- | -------- | ---- |\n",
    "| BPSK | 1 | CNR |\n",
    "| QPSK | 2 | CNR - 3 dB|\n",
    "| 8PSK | 3 |CNR - 4.8 dB|\n",
    "| 16QAM | 4 |CNR - 6 dB|\n",
    "| 32QAM | 5 |CNR - 7 dB|\n",
    "| 64QAM | 5 |CNR - 7.8 dB|\n",
    "| 128QAM | 7 |CNR - 8.5 dB|\n",
    "| 256QAM | 8 |CNR - 9 dB|"
   ]
  }
 ],
 "metadata": {
  "kernelspec": {
   "display_name": "Python 3",
   "language": "python",
   "name": "python3"
  },
  "language_info": {
   "codemirror_mode": {
    "name": "ipython",
    "version": 3
   },
   "file_extension": ".py",
   "mimetype": "text/x-python",
   "name": "python",
   "nbconvert_exporter": "python",
   "pygments_lexer": "ipython3",
   "version": "3.8.3"
  }
 },
 "nbformat": 4,
 "nbformat_minor": 4
}
