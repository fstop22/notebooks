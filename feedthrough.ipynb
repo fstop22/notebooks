{
 "cells": [
  {
   "cell_type": "markdown",
   "metadata": {},
   "source": [
    "# Feedthrough Randomizer\n",
    "A feedthrough randomizer is a modulo 2 IIR filter descibed by the difference equation\n",
    "\n",
    "\\begin{equation*}\n",
    "y_{ran}(n) = x(n) + \\sum_{k=1}^{M} h_k y(n-k)\n",
    "\\end{equation*}\n",
    "\n",
    "where the coefficients $h_k$ are the binary values of the connection polynomial.\n",
    "So for a $R(0,2,3)$ connection polynomial, $h=[1,0,1,1]$.  This performs\n",
    "the polynomial division of $x$ by $h$.  The follwing class implements the feedthrough randomizer difference equation:\n",
    "\n"
   ]
  },
  {
   "cell_type": "code",
   "execution_count": 1,
   "metadata": {},
   "outputs": [],
   "source": [
    "import numpy as np\n",
    "\n",
    "class rand(object):\n",
    "\n",
    "    def __init__(self, h, state=None):\n",
    "        ''' Implements feed-through randomizer.\n",
    "\n",
    "        Args:\n",
    "            h (array): Randomizer taps.  For R(0,2,3) polynmial, h = [1,0,1,1].\n",
    "        '''\n",
    "\n",
    "        self.h = h\n",
    "        if state is None:\n",
    "            self.state = np.zeros(len(h)-1)\n",
    "        else:\n",
    "            self.state = state\n",
    "\n",
    "    def run(self, x):\n",
    "        ''' Randomize block of data.'''\n",
    "\n",
    "        y = np.zeros(len(x))\n",
    "\n",
    "        for n in range(len(x)):\n",
    "            mask = np.logical_and(self.state, self.h[1:])\n",
    "            y[n] = (x[n] + mask.sum()) % 2\n",
    "            self.state[1:] = self.state[0:-1]\n",
    "            self.state[0] = y[n]\n",
    "\n",
    "        return y"
   ]
  },
  {
   "cell_type": "markdown",
   "metadata": {},
   "source": [
    "To calculate impulse response of randomizer:"
   ]
  },
  {
   "cell_type": "code",
   "execution_count": 2,
   "metadata": {},
   "outputs": [
    {
     "data": {
      "text/plain": [
       "array([1., 0., 1., 1., 1., 0., 0., 1., 0., 1., 1., 1., 0., 0., 1., 0.])"
      ]
     },
     "execution_count": 2,
     "metadata": {},
     "output_type": "execute_result"
    }
   ],
   "source": [
    "h = [1,0,1,1]\n",
    "x = [0]*16\n",
    "x[0] = 1\n",
    "r = rand(h)\n",
    "r.run(x)"
   ]
  },
  {
   "cell_type": "markdown",
   "metadata": {},
   "source": [
    "Note that the impulse response of the feedthrough radomizer is a $`R(0,2,3)`$ LRS."
   ]
  },
  {
   "cell_type": "markdown",
   "metadata": {},
   "source": [
    "# Feedthrough Derandomizer\n",
    "A feedtrough (or self-synchronizing) derandomizer is a modulo 2 FIR filter\n",
    "descibed by the difference equation\n",
    "\n",
    "\\begin{equation*}\n",
    "y_{der}(n) = \\sum_{k=0}^{M} h_k x(n-k)\n",
    "\\end{equation*}\n",
    "\n",
    "where the coefficients $h_k$ are the binary values of the connection polynomial.\n",
    "So for a $R(0,2,3)$ connection polynomial, $h=[1,0,1,1]$.  This performs\n",
    "the polynomial multiplication of $h$ and $x$.  The follwing class implements the feedthrough derandomizer difference equation:"
   ]
  },
  {
   "cell_type": "code",
   "execution_count": 3,
   "metadata": {},
   "outputs": [],
   "source": [
    "class derand(object):\n",
    "\n",
    "    def __init__(self, h):\n",
    "        ''' Implements feed-through derandomizer.\n",
    "\n",
    "        Args:\n",
    "            h (array): Derandomizer taps.  For R(0,2,3) polynmial, h = [1,0,1,1].\n",
    "        '''\n",
    "\n",
    "        self.h = h\n",
    "        self.state = np.zeros(len(h))\n",
    "\n",
    "    def run(self, x):\n",
    "        ''' Derandomize block of data.'''\n",
    "\n",
    "        y = np.zeros(len(x))\n",
    "\n",
    "        for n in range(len(x)):\n",
    "            self.state[1:] = self.state[0:-1]\n",
    "            self.state[0] = x[n]\n",
    "            mask = np.logical_and(self.state, self.h)\n",
    "            y[n] = mask.sum() % 2\n",
    "\n",
    "        return y"
   ]
  },
  {
   "cell_type": "markdown",
   "metadata": {},
   "source": [
    "Calculate impulse response of derandomizer:"
   ]
  },
  {
   "cell_type": "code",
   "execution_count": 4,
   "metadata": {},
   "outputs": [
    {
     "data": {
      "text/plain": [
       "array([1., 0., 1., 1., 0., 0., 0., 0., 0., 0., 0., 0., 0., 0., 0., 0.])"
      ]
     },
     "execution_count": 4,
     "metadata": {},
     "output_type": "execute_result"
    }
   ],
   "source": [
    "h = [1,0,1,1]\n",
    "x = [0]*16\n",
    "x[0] = 1\n",
    "d = derand(h)\n",
    "d.run(x)"
   ]
  },
  {
   "cell_type": "markdown",
   "metadata": {},
   "source": [
    "# Using Feedthrough Derandomizer to Detect Bit Errors in PN Sequence\n",
    "If the input $x(n)$ to a feedthrough randomizer is zero, the difference equation becomes\n",
    "\n",
    "\\begin{equation*}\n",
    "y_{ran}(n) = \\sum_{k=1}^{M} h_k y(n-k)\n",
    "\\end{equation*}\n",
    "\n",
    "If the initial state of the randomizer is not zero, it will generate and LRS according to its taps.\n",
    "\n",
    "If we apply the $Z$ transform to the difference equations of the feedthrough randomizer and derandomizer and determine their respective transfer functions\n",
    "\n",
    "\\begin{equation*}\n",
    "Y_{der}(z) = \\sum_{k=0}^{M} h_k X(z)z^{-k} \\Longrightarrow H_{der}(Z) = \\sum_{k=0}^{M} h_k z^{-k}\n",
    "\\end{equation*}\n",
    "\n",
    "\\begin{equation*}\n",
    "Y_{ran}(z) = X(Z) + \\sum_{k=1}^{M} h_k Y(z)z^{-k} \\Longrightarrow H_{ran}(Z) = \\frac{1}{1 - \\sum_{k=1}^{M} h_k z^{-k}}\n",
    "\\end{equation*}\n",
    "\n",
    "we can show that the derandomizer transfer function cancels the randomizer transfer function,\n",
    "\n",
    "\\begin{equation*}\n",
    "Y(z) = X(z) H_{ran}(z) H_{der}(z) = \n",
    "X(z)\\left\\{\\sum_{k=0}^M h_k z^{-k} \\right\\} \\left\\{\\frac{1}{1 - \\sum_{k=1}^{M} h_k z^{-k}} \\right\\} =\n",
    "X(z)\\left\\{\\frac{\\sum_{k=0}^{M} h_k z^{-k}}{1 - \\sum_{k=1}^{M} h_k z^{-k}} \\right\\} =\n",
    "X(z)\\left\\{\\frac{h_0 + \\sum_{k=1}^{M} h_k z^{-k}} {1 - \\sum_{k=1}^{M} h_k^{-k}} \\right\\} = \n",
    "X(z) h_0 = X(z)\n",
    "\\end{equation*}\n",
    "\n",
    "Therefore, we can use a feedthrough derandomizer to detect bit errors in a PN sequence by setting its taps to the connection polynomial of the PN sequence generator.  Note that\n",
    "the derandomizer output will have a transient of  $len(h)-1$ bits.\n",
    "\n",
    "The following Python code demonstrates this."
   ]
  },
  {
   "cell_type": "code",
   "execution_count": 5,
   "metadata": {},
   "outputs": [
    {
     "data": {
      "text/plain": [
       "array([0., 1., 1., 1., 0., 0., 1., 0., 1., 1., 1., 0., 0., 1., 0., 1.])"
      ]
     },
     "execution_count": 5,
     "metadata": {},
     "output_type": "execute_result"
    }
   ],
   "source": [
    "# Taps\n",
    "h = [1,0,1,1]\n",
    "# Zero input to randomizer\n",
    "x = [0]*16\n",
    "# Randomizer initial state\n",
    "state = [1,0,0]\n",
    "# Create randomizer object\n",
    "r = rand(h, state)\n",
    "# Randomize input\n",
    "y_ran = r.run(x)\n",
    "y_ran"
   ]
  },
  {
   "cell_type": "code",
   "execution_count": 6,
   "metadata": {},
   "outputs": [
    {
     "data": {
      "text/plain": [
       "array([0., 0., 0., 0., 0., 0., 0., 0., 0., 0., 0., 0., 0.])"
      ]
     },
     "execution_count": 6,
     "metadata": {},
     "output_type": "execute_result"
    }
   ],
   "source": [
    "# Annihilate PN sequence\n",
    "d = derand(h)\n",
    "y_der = d.run(y_ran)\n",
    "# Remove transient\n",
    "transient = len(h) - 1\n",
    "y_der[transient:]"
   ]
  },
  {
   "cell_type": "markdown",
   "metadata": {},
   "source": [
    "The following Python shows the detection of a singel bit error in a PN sequence.  Note that as the bit error propates though the derandomizer's delay line, an error is indicated for each coefficient in the connection polynomial.  Therefore, to use this technique to measure bit errors the total number of $`1`$'s seen in output stream needs to be scaled by the number of non-zero taps in coefficient polynomial."
   ]
  },
  {
   "cell_type": "code",
   "execution_count": 7,
   "metadata": {},
   "outputs": [
    {
     "data": {
      "text/plain": [
       "1.0"
      ]
     },
     "execution_count": 7,
     "metadata": {},
     "output_type": "execute_result"
    }
   ],
   "source": [
    "# Taps\n",
    "h = [1,0,1,1]\n",
    "\n",
    "# Zero input to randomizer\n",
    "x = [0]*16\n",
    "\n",
    "# Randomizer initial state\n",
    "state = [1,0,0]\n",
    "\n",
    "# Create randomizer object\n",
    "r = rand(h, state)\n",
    "\n",
    "# Randomize input\n",
    "y_ran = r.run(x)\n",
    "\n",
    "# Insert bit error\n",
    "y_ran[5] = not(y_ran[5])\n",
    "\n",
    "# Annihilate PN sequence \n",
    "d = derand(h)\n",
    "y_der = d.run(y_ran)\n",
    "\n",
    "# Remove transient\n",
    "transient = len(h) - 1\n",
    "y_der[transient:]\n",
    "\n",
    "# Calculate bit errors\n",
    "num_errs = y_der[transient:].sum()/(len(h)-1)\n",
    "num_errs"
   ]
  }
 ],
 "metadata": {
  "kernelspec": {
   "display_name": "Python 3",
   "language": "python",
   "name": "python3"
  },
  "language_info": {
   "codemirror_mode": {
    "name": "ipython",
    "version": 3
   },
   "file_extension": ".py",
   "mimetype": "text/x-python",
   "name": "python",
   "nbconvert_exporter": "python",
   "pygments_lexer": "ipython3",
   "version": "3.8.3"
  }
 },
 "nbformat": 4,
 "nbformat_minor": 4
}
